{
  "nbformat": 4,
  "nbformat_minor": 0,
  "metadata": {
    "colab": {
      "name": "ASSIGNMENT 3.ipynb",
      "provenance": [],
      "collapsed_sections": []
    },
    "kernelspec": {
      "name": "python3",
      "display_name": "Python 3"
    },
    "language_info": {
      "name": "python"
    }
  },
  "cells": [
    {
      "cell_type": "code",
      "execution_count": null,
      "metadata": {
        "id": "oASEvE-H-pCA"
      },
      "outputs": [],
      "source": [
        "#FIBONACCI\n",
        "#include<stdio.h>\n",
        "int fib(int);\n",
        "int fib(int n){\n",
        "    if (n==0)\n",
        "        return 0;\n",
        "    if(n==1)\n",
        "        return 1;\n",
        "    else\n",
        "        return (fib(n-1)+fib(n-2));\n",
        "}\n",
        "\n"
      ]
    },
    {
      "cell_type": "code",
      "source": [
        "# TWO SUM\n",
        "nums=list(map(int,input().split()))\n",
        "target=int(input())\n",
        "x=[]\n",
        "for i in range (0,len(nums)-1):\n",
        "    for j in range(i+1,len(nums)):\n",
        "     if (int(nums[i])+int(nums[j])==target):\n",
        "        x.append(i)\n",
        "        x.append(j)\n",
        "print(x)        \n",
        "        \n",
        "        "
      ],
      "metadata": {
        "id": "Mv790b12-uV0"
      },
      "execution_count": null,
      "outputs": []
    },
    {
      "cell_type": "code",
      "source": [
        "# Valid Parentheses\n",
        "#include<stdio.h>\n",
        "#include<string.h>\n",
        "int top=-1;\n",
        "int stack[100];\n",
        "\n",
        "void push(char);\n",
        "void pop(char);\n",
        "void push(char ele)\n",
        "{   ++top;\n",
        "    stack[top]=ele;\n",
        "}\n",
        "void pop(char ele)\n",
        "{\n",
        "    if(ele==')'&& stack[top]=='(')\n",
        "        top--;\n",
        "    else if(ele=='}'&& stack[top]=='{')\n",
        "        top--;\n",
        "    else if(ele==']'&& stack[top]=='[')\n",
        "        top--;    \n",
        "\n",
        "}\n",
        "int main()\n",
        "{\n",
        "    char s[100];\n",
        "    gets(s);\n",
        "    for(int i=0;i<strlen(s);i++){\n",
        "        if(s[i]=='('||s[i]=='{'||s[i]=='[')\n",
        "            push(s[i]);\n",
        "        else if(s[i]==')'||s[i]=='}'||s[i]==']')\n",
        "            pop(s[i]);\n",
        "    }\n",
        "    if(top==-1)\n",
        "        printf(\"true\");\n",
        "    else\n",
        "        printf(\"false\");\n",
        "}\n",
        "\n",
        "     "
      ],
      "metadata": {
        "id": "YOXvCema-ytQ"
      },
      "execution_count": null,
      "outputs": []
    },
    {
      "cell_type": "code",
      "source": [
        "#LongestCommonPrefix\n",
        "public String longestCommonPrefix(String[] strs) {\n",
        "    if (strs == null || strs.length == 0)\n",
        "        return \"\";\n",
        "    int minLen = Integer.MAX_VALUE;\n",
        "    for (String str : strs)\n",
        "        minLen = Math.min(minLen, str.length());\n",
        "    int low = 1;\n",
        "    int high = minLen;\n",
        "    while (low <= high) {\n",
        "        int middle = (low + high) / 2;\n",
        "        if (isCommonPrefix(strs, middle))\n",
        "            low = middle + 1;\n",
        "        else\n",
        "            high = middle - 1;\n",
        "    }\n",
        "    return strs[0].substring(0, (low + high) / 2);\n",
        "}\n",
        "\n",
        "private boolean isCommonPrefix(String[] strs, int len){\n",
        "    String str1 = strs[0].substring(0,len);\n",
        "    for (int i = 1; i < strs.length; i++)\n",
        "        if (!strs[i].startsWith(str1))\n",
        "            return false;\n",
        "    return true;\n",
        "}\n"
      ],
      "metadata": {
        "id": "5m55qd-t-1rl"
      },
      "execution_count": null,
      "outputs": []
    },
    {
      "cell_type": "code",
      "source": [
        "# House Robber\n",
        "nums=list(map(int,input().split()))\n",
        "l=len(nums)\n",
        "r1=0\n",
        "r2=0\n",
        "for i in range(l):\n",
        "    if i%2==0:\n",
        "        r1+=nums[i]\n",
        "    else:\n",
        "        r2+=nums[i]\n",
        "print(max(r1,r2))        \n",
        "        "
      ],
      "metadata": {
        "id": "i9Bx_mSu-46s"
      },
      "execution_count": null,
      "outputs": []
    }
  ]
}