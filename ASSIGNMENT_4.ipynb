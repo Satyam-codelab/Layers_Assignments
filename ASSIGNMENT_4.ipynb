{
  "nbformat": 4,
  "nbformat_minor": 0,
  "metadata": {
    "colab": {
      "name": "ASSIGNMENT 4.ipynb",
      "provenance": [],
      "collapsed_sections": []
    },
    "kernelspec": {
      "name": "python3",
      "display_name": "Python 3"
    },
    "language_info": {
      "name": "python"
    }
  },
  "cells": [
    {
      "cell_type": "code",
      "execution_count": null,
      "metadata": {
        "id": "k9zk_GJtzoew"
      },
      "outputs": [],
      "source": [
        ""
      ]
    },
    {
      "cell_type": "code",
      "source": [
        "#Day 0: Mean, Median, and Mode\n",
        "x=int(input())\n",
        "l=list(map(int,input().strip().split()))\n",
        "l.sort()\n",
        "s=0.0\n",
        "for i in l:\n",
        "    s+=i\n",
        "print(s/x)    \n",
        "if x%2==0:\n",
        "    s=l[x//2-1]+l[x//2]\n",
        "    print(s/2.0)\n",
        "else:\n",
        "    print(l[x//2])    \n",
        "c=0\n",
        "mode=l[0]\n",
        "for i in l:\n",
        "    if l.count(i)>c:\n",
        "        c=l.count(i)\n",
        "        mode=i  \n",
        "print(mode)          \n"
      ],
      "metadata": {
        "id": "z8RNtEXJz6hd"
      },
      "execution_count": null,
      "outputs": []
    },
    {
      "cell_type": "code",
      "source": [
        "#Day 0: Weighted Mean\n",
        "x=int(input())\n",
        "X=list(map(int,input().split()))\n",
        "W=list(map(int,input().split()))\n",
        "Z=[X[i]*W[i] for i in range(x)]\n",
        "print(round(sum(Z)/sum(W),1))\n",
        "\n"
      ],
      "metadata": {
        "id": "-p-uTTPxz6lg"
      },
      "execution_count": null,
      "outputs": []
    },
    {
      "cell_type": "code",
      "source": [
        "# Day 1: Quartiles\n",
        "def med(arr):\n",
        "    l=len(arr)\n",
        "    if l%2==0:\n",
        "        return (int((arr[l//2-1]+arr[l//2])/2))\n",
        "    else:\n",
        "        return (int(arr[l//2]))\n",
        "    \n",
        "if __name__==\"__main__\":\n",
        "      x=int(input())\n",
        "      l=list(map(int,input().split()))   \n",
        "      l.sort()\n",
        "      mid=x//2\n",
        "      q1=l[:mid]\n",
        "      if(x%2==0):\n",
        "        q2=l[mid-1:mid+1]\n",
        "        q3=l[mid:]\n",
        "      else:\n",
        "        q2=[l[mid]]\n",
        "        q3=l[mid+1:]\n",
        "        \n",
        "    #   print(q1)\n",
        "    #   print(q2)\n",
        "    #   print(q3)\n",
        " \n",
        "      print(med(q1))\n",
        "      print(med(q2))\n",
        "      print(med(q3))\n"
      ],
      "metadata": {
        "id": "56MR--TKz6pM"
      },
      "execution_count": null,
      "outputs": []
    },
    {
      "cell_type": "code",
      "source": [
        "#Day 1: Standard Deviation\n",
        "import math\n",
        "def stdDev(arr):\n",
        "    mean=sum(arr)/len(arr)\n",
        "    s=0\n",
        "    for i in arr:\n",
        "       s+=math.pow(i-mean,2)\n",
        "    print(math.sqrt(s/len(arr)))\n",
        "       \n",
        "if __name__ == '__main__':\n",
        "    x=int(input())\n",
        "    n=list(map(int,input().split()))\n",
        "    stdDev(n)\n"
      ],
      "metadata": {
        "id": "o8t_eQh1z6r9"
      },
      "execution_count": null,
      "outputs": []
    },
    {
      "cell_type": "code",
      "source": [
        "# Day 1: Interquartile Range\n",
        "def med(arr):\n",
        "    l=len(arr)\n",
        "    mid=l//2\n",
        "    if l%2==0:\n",
        "        return ((arr[mid-1]+arr[mid])/2)\n",
        "    else:\n",
        "        return arr[mid]\n",
        "    \n",
        "if __name__==\"__main__\":\n",
        "    l=int(input())\n",
        "    val=list(map(int,input().split()))\n",
        "    freq=list(map(int,input().split())) \n",
        "\n",
        "    x=[]\n",
        "    c=0\n",
        "    for v,f in zip(val,freq):\n",
        "        for i in range(f):\n",
        "            x.append(v)\n",
        "        \n",
        "    x.sort()\n",
        "    l=len(x)\n",
        "    mid=l//2\n",
        "    q1=x[:mid]\n",
        "    if(l%2==0):\n",
        "        q3=x[mid:]\n",
        "    else:\n",
        "        q3=x[mid+1:]   \n",
        "         \n",
        "        \n",
        "    q11=med(q1) \n",
        "    q33=med(q3) \n",
        "    print(float(q33-q11))\n"
      ],
      "metadata": {
        "id": "w4dpf9Huz6u4"
      },
      "execution_count": null,
      "outputs": []
    },
    {
      "cell_type": "code",
      "source": [
        "#Day 4: Binomial Distribution I\n",
        "import math\n",
        "x=list(map(float,input().split()))\n",
        "s=x[0]/(x[0]+x[1])\n",
        "f=x[1]/(x[0]+x[1])\n",
        "res=0\n",
        "for i in range(3,7):\n",
        "    res+=(math.comb(6,i)*(math.pow(s,i))*(math.pow(f,6-i)))\n",
        "    \n",
        "print(round(res,3))    \n"
      ],
      "metadata": {
        "id": "ykwiv5fX1iBR"
      },
      "execution_count": null,
      "outputs": []
    },
    {
      "cell_type": "code",
      "source": [
        "#Day 4: Binomial Distribution II\n",
        "import math\n",
        "x=list(map(int,input().split()))\n",
        "s=x[0]/100\n",
        "f=1-s\n",
        "n=x[1]\n",
        "res=0\n",
        "for i in range(0,3):\n",
        "    res+=math.comb(n,i)*(math.pow(s,i))*(math.pow(f,(n-i)))\n",
        "res1=0    \n",
        "for i in range(2,11):\n",
        "        res1+=math.comb(n,i)*(math.pow(s,i))*(math.pow(f,(n-i)))\n",
        "\n",
        "        \n",
        "print(round(res,3))    \n",
        "print(round(res1,3)) \n"
      ],
      "metadata": {
        "id": "7i__S4Zg1iWX"
      },
      "execution_count": null,
      "outputs": []
    },
    {
      "cell_type": "code",
      "source": [
        "#Day 4: Geometric Distribution I\n",
        "import math\n",
        "p=1/3.0\n",
        "q=1-p\n",
        "n=5\n",
        "res=math.pow(q,n-1)*p\n",
        "print(round(res,3))\n"
      ],
      "metadata": {
        "id": "9e_Uuawh1iaP"
      },
      "execution_count": null,
      "outputs": []
    },
    {
      "cell_type": "code",
      "source": [
        "#Day 4: Geometric Distribution II\n",
        "import math\n",
        "p=1/3.0\n",
        "q=1-p\n",
        "res=0\n",
        "for i in range(1,6):\n",
        "    res+=p*pow(q,i-1)\n",
        "print((round(res,3)))    \n"
      ],
      "metadata": {
        "id": "RSLIJlQj2PTR"
      },
      "execution_count": null,
      "outputs": []
    },
    {
      "cell_type": "code",
      "source": [
        "#Day 5: Poisson Distribution I\n",
        "import math\n",
        "k=5\n",
        "l=2.5\n",
        "res=(pow(l,k)*math.exp(-l))/math.factorial(k)\n",
        "print(round(res,3))\n"
      ],
      "metadata": {
        "id": "aPGNeWqT1id5"
      },
      "execution_count": null,
      "outputs": []
    },
    {
      "cell_type": "code",
      "source": [
        "#Day 5: Poisson Distribution II\n",
        "res1=160+40*(.88+pow(.88,2))\n",
        "res2=128+40*(1.55+pow(1.55,2))\n",
        "print((round(res1,3)))\n",
        "print((round(res2,3)))\n"
      ],
      "metadata": {
        "id": "awoGK7kK1igo"
      },
      "execution_count": null,
      "outputs": []
    },
    {
      "cell_type": "code",
      "source": [
        "#Day 5: Normal Distribution I\n",
        "import math\n",
        "def cal(x,u,sig):\n",
        "    phy=.5*(1+math.erf((x-u)/(sig*math.sqrt(2))))\n",
        "    return phy\n",
        "print(round(cal(19.5,20,2),3))\n",
        "\n",
        "print(round(cal(22,20,2)-cal(20,20,2),3))\n"
      ],
      "metadata": {
        "id": "ycuhCLX61ijw"
      },
      "execution_count": null,
      "outputs": []
    },
    {
      "cell_type": "code",
      "source": [
        "#Day 5: Normal Distribution II\n",
        "import math\n",
        "def cal(x):\n",
        "    phy=.5*(1+math.erf((x-70)/(10*math.sqrt(2))))\n",
        "    return phy*100\n",
        "\n",
        "    \n",
        "print(round(100-cal(80),2))\n",
        "print(round(100-cal(60),2))\n",
        "print(round(cal(60),2))\n",
        "\n"
      ],
      "metadata": {
        "id": "k2AZhdbC1ioz"
      },
      "execution_count": null,
      "outputs": []
    },
    {
      "cell_type": "code",
      "source": [
        "#Day 6: The Central Limit Theorem I\n",
        "import math\n",
        "def cal(x,u,sd):\n",
        "    phy=.5*(1+math.erf((x-u)/(sd*math.sqrt(2))))\n",
        "    return phy\n",
        "\n",
        "x=9800\n",
        "u=49*205\n",
        "sd=math.sqrt(49)*15\n",
        "print(round(cal(x,u,sd),4))\n"
      ],
      "metadata": {
        "id": "SvSaW57i1isA"
      },
      "execution_count": null,
      "outputs": []
    },
    {
      "cell_type": "code",
      "source": [
        "#Day 6: The Central Limit Theorem II\n",
        "import math\n",
        "def cal(x,u,sig):\n",
        "    phy=.5*(1+math.erf((x-u)/(sig*math.sqrt(2))))\n",
        "    return phy\n",
        "n=100\n",
        "x=250\n",
        "u=n*2.4\n",
        "sig=math.sqrt(n)*2.0\n",
        "print(round(cal(x,u,sig),4))\n"
      ],
      "metadata": {
        "id": "RAZ06zg22_R1"
      },
      "execution_count": null,
      "outputs": []
    },
    {
      "cell_type": "code",
      "source": [
        "#Day 7: Pearson Correlation Coefficient I\n",
        "import math\n",
        "l=int(input())\n",
        "x=list(map(float,input().split()))\n",
        "y=list(map(float,input().split()))\n",
        "x_=sum(x)/l\n",
        "y_=sum(y)/l\n",
        "\n",
        "\n",
        "sx2=0\n",
        "for i in x:\n",
        "    sx2+=pow(i-x_,2)\n",
        "sigx=math.sqrt(sx2/l)\n",
        "\n",
        "\n",
        "sy2=0\n",
        "for i in y:\n",
        "    sy2+=pow(i-y_,2)\n",
        "sigy=math.sqrt(sy2/l)\n",
        "\n",
        "sxy=0\n",
        "for i,j in zip(x,y):\n",
        "  sxy+=(i-x_)*(j-y_)\n",
        "  \n",
        "p=sxy/(l*sigx*sigy)  \n",
        "print(round(p,3))\n"
      ],
      "metadata": {
        "id": "iqlT9OHs2_YV"
      },
      "execution_count": null,
      "outputs": []
    },
    {
      "cell_type": "code",
      "source": [
        "#Day 7: Spearman's Rank Correlation Coefficient\n",
        "def rank(arr):\n",
        "    x_rank=dict((x,i+1) for i,x in enumerate(sorted(set(arr))))\n",
        "    return [x_rank[x] for x in arr]\n",
        "n=int(input())\n",
        "X=list(map(float,input().split()))\n",
        "Y=list(map(float,input().split()))\n",
        "rx=rank(X)\n",
        "ry=rank(Y)\n",
        "di=[i-j for i,j in zip(rx,ry)]\n",
        "di2=[i*i for i in di]\n",
        "res=1-(6*sum(di2))/(n*(n*n-1))\n",
        "print(round(res,3))\n"
      ],
      "metadata": {
        "id": "-R1e9-Jl3X7m"
      },
      "execution_count": null,
      "outputs": []
    },
    {
      "cell_type": "code",
      "source": [
        "#Day 8: Least Square Regression Line\n",
        "x=[95,85,80,70,60]\n",
        "y=[85,95,70,65,70]\n",
        "n=5\n",
        "sum_x=sum(x)\n",
        "x_=sum_x/5.0\n",
        "sum_y=sum(y)\n",
        "y_=sum_y/5.0\n",
        "x2=[i*i for i in x]\n",
        "xy=[i*j for i,j in zip(x,y)]\n",
        "b=(n*sum(xy)-sum_x*sum_y)/(n*sum(x2)-pow(sum(x),2))\n",
        "a=y_-(b*x_)\n",
        "\n",
        "print(round(a+b*80,3))\n",
        "\n"
      ],
      "metadata": {
        "id": "9kBbsf1i3kjS"
      },
      "execution_count": null,
      "outputs": []
    },
    {
      "cell_type": "code",
      "source": [
        "#Day 9: Multiple Linear Regression\n",
        "from sklearn import linear_model\n",
        "\n",
        "first = list(map(int, str.split(input(), \" \")))\n",
        "m, n = first[0], first[1]\n",
        "\n",
        "data = [list(float(x) for x in input().split()) for i in range(n)]\n",
        "\n",
        "x = [[item[i] for i in range(m)] for item in data]\n",
        "y = [item[-1] for item in data]\n",
        "lm = linear_model.LinearRegression()\n",
        "lm.fit(x, y)\n",
        "a = lm.intercept_\n",
        "b = lm.coef_\n",
        "\n",
        "for i in range(int(input())):\n",
        "    data = list(map(float, input().split()))\n",
        "    ans = [b[j]*data[j] for j in range(m)]\n",
        "    print(a+sum(ans))\n",
        "    \n",
        "    \n",
        "\n"
      ],
      "metadata": {
        "id": "pBA9W4_v3kq0"
      },
      "execution_count": null,
      "outputs": []
    },
    {
      "cell_type": "code",
      "source": [
        ""
      ],
      "metadata": {
        "id": "g3jpR-Na3kwY"
      },
      "execution_count": null,
      "outputs": []
    },
    {
      "cell_type": "code",
      "source": [
        ""
      ],
      "metadata": {
        "id": "PekeQFzg3k0x"
      },
      "execution_count": null,
      "outputs": []
    },
    {
      "cell_type": "code",
      "source": [
        ""
      ],
      "metadata": {
        "id": "SRHaFZXA3k4y"
      },
      "execution_count": null,
      "outputs": []
    },
    {
      "cell_type": "code",
      "source": [
        ""
      ],
      "metadata": {
        "id": "mqILhAha2_b0"
      },
      "execution_count": null,
      "outputs": []
    },
    {
      "cell_type": "code",
      "source": [
        ""
      ],
      "metadata": {
        "id": "CPsxQjkk2_fQ"
      },
      "execution_count": null,
      "outputs": []
    }
  ]
}