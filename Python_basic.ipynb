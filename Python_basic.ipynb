{
 "cells": [
  {
   "cell_type": "code",
   "execution_count": null,
   "id": "91d29c93-46bc-4ea5-848b-af21d4b1b942",
   "metadata": {},
   "outputs": [],
   "source": [
    "n=input();\n",
    "if n%2!=0:\n",
    "    print(\"Weird\");\n",
    "else:\n",
    "    if n>=2 and n<=5:\n",
    "            print(\"Not Weird\");\n",
    "    if n>=6 and n<=20:\n",
    "            print(\"Weird\");\n",
    "    if n>20:\n",
    "            print(\"Not Weird\");    "
   ]
  },
  {
   "cell_type": "code",
   "execution_count": null,
   "id": "0d2d2758-95f4-4d06-b7a1-66f1d9247faf",
   "metadata": {},
   "outputs": [],
   "source": [
    "if __name__ == '__main__':\n",
    "    a = int(raw_input())\n",
    "    b = int(raw_input())\n",
    "    print(a+b);\n",
    "    print(a-b);\n",
    "    print(a*b);"
   ]
  },
  {
   "cell_type": "code",
   "execution_count": null,
   "id": "768207bb-2460-467e-b633-596c312e00c4",
   "metadata": {},
   "outputs": [],
   "source": [
    "a=float(input());\n",
    "b=float(input());\n",
    "print((int)(a/b));\n",
    "print(a/b);"
   ]
  },
  {
   "cell_type": "code",
   "execution_count": null,
   "id": "6a8eca15-16a7-4398-8ef5-0233d420f790",
   "metadata": {},
   "outputs": [],
   "source": [
    "a=(int)(input());\n",
    "for i in range(a):\n",
    "    print(i*i);"
   ]
  },
  {
   "cell_type": "code",
   "execution_count": null,
   "id": "bc26a251-9103-46eb-ad33-afc92d1481af",
   "metadata": {},
   "outputs": [],
   "source": [
    "def is_leap(year):\n",
    "    leap=False;\n",
    "    if year%400==0:\n",
    "        leap=True;\n",
    "    elif year%100==0:\n",
    "        leap=False;\n",
    "    elif year%4==0:\n",
    "        leap=True;        \n",
    "    \n",
    "    return leap;\n",
    "\n",
    "year = int(input());\n",
    "res=is_leap(year);\n",
    "print(res);"
   ]
  },
  {
   "cell_type": "code",
   "execution_count": null,
   "id": "d3178cba-27fa-4549-bc29-cd90708bab5a",
   "metadata": {},
   "outputs": [],
   "source": [
    "a=(int)(input());\n",
    "for i in range(a):\n",
    "    print (i+1,end='');"
   ]
  },
  {
   "cell_type": "code",
   "execution_count": null,
   "id": "aeb9c460-e4db-413d-bb93-cab7d0ebeb49",
   "metadata": {},
   "outputs": [],
   "source": [
    "n = int(input())\n",
    "ar = map(int,input().split())\n",
    "arr=list(ar)\n",
    "\n",
    "n = int(input())\n",
    "ar = map(int,input().split())\n",
    "arr=list(ar)\n",
    "for i in range(n-1):\n",
    "    for j in range(n-i-1):   \n",
    "            if arr[j]<arr[j+1]:\n",
    "                t=arr[j]\n",
    "                arr[j]=arr[j+1]\n",
    "                arr[j+1]=t\n",
    "            \n",
    "lst=[];\n",
    "for x in range(n-1):\n",
    "    c=0;\n",
    "    for y in range(x+1,n):\n",
    "        if(arr[x]==arr[y]):\n",
    "            c=c+1;\n",
    "\n",
    "    if c==0:\n",
    "        lst.append(arr[x]);\n",
    "\n",
    "print(lst[1])"
   ]
  },
  {
   "cell_type": "code",
   "execution_count": null,
   "id": "60ac9ea4-5e27-42ad-9ff8-4c5a38898d0e",
   "metadata": {},
   "outputs": [],
   "source": [
    "#tuples\n",
    "n = int(input())\n",
    "integer_list = map(int,input().split())\n",
    "tup=tuple(integer_list)\n",
    "print(hash(tup))"
   ]
  }
 ],
 "metadata": {
  "kernelspec": {
   "display_name": "Python 3 (ipykernel)",
   "language": "python",
   "name": "python3"
  },
  "language_info": {
   "codemirror_mode": {
    "name": "ipython",
    "version": 3
   },
   "file_extension": ".py",
   "mimetype": "text/x-python",
   "name": "python",
   "nbconvert_exporter": "python",
   "pygments_lexer": "ipython3",
   "version": "3.9.7"
  }
 },
 "nbformat": 4,
 "nbformat_minor": 5
}
